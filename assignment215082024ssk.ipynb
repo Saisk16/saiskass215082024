{
 "cells": [
  {
   "cell_type": "code",
   "execution_count": 1,
   "id": "2c9ce403-f8af-4fbf-a581-c70df323c8c1",
   "metadata": {},
   "outputs": [
    {
     "name": "stdout",
     "output_type": "stream",
     "text": [
      "po\n"
     ]
    }
   ],
   "source": [
    "#1)Discuss string slicing and provide examples1)\n",
    "#Ans. String slicing refers to extracting a fraction of a string with the help of indexing. Slicing allows capturing substrings and characters.\n",
    "H=\"temporary\"\n",
    "print(H[3:5])\n"
   ]
  },
  {
   "cell_type": "code",
   "execution_count": null,
   "id": "0b6f2692-f3bf-48ed-9c5e-96b6e39ff32e",
   "metadata": {},
   "outputs": [],
   "source": [
    "#2) Explain the key features of lists in Python.\n",
    "#Ans. List are mutable, easy to use and flexible data structure. The elements of a list can be accessed by an index. List are ordered and allow duplicate values, and different types of values. List modification includes functions like append(), insert(), extend().\n"
   ]
  },
  {
   "cell_type": "code",
   "execution_count": 4,
   "id": "de8d3b7a-50e0-44f8-a9bb-6cabc373f303",
   "metadata": {},
   "outputs": [
    {
     "name": "stdout",
     "output_type": "stream",
     "text": [
      "original list is\n",
      "[2, 3, 6, 'india', 92]\n",
      "accessing an element from a list:\n",
      "india\n",
      "modifying a list(adding something)\n",
      "[2, 3, 6, 'india', 92, 8]\n",
      "delete an element\n",
      "[2, 6, 'india', 92, 8]\n"
     ]
    }
   ],
   "source": [
    " #Q3. Describe how to access, modify, and delete elements in a list with examples\n",
    "#ans.\n",
    "list1=[2,3,6,\"india\",92]\n",
    "print(\"original list is\")\n",
    "print(list1)\n",
    "print(\"accessing an element from a list:\")\n",
    "print(list1[3])\n",
    "print(\"modifying a list(adding something)\")\n",
    "list1.append(8)\n",
    "print(list1)\n",
    "print(\"delete an element\")\n",
    "list1.remove(3)\n",
    "print(list1)\n"
   ]
  },
  {
   "cell_type": "code",
   "execution_count": 5,
   "id": "651345fd-1bf3-4c16-82f8-ab0927b06536",
   "metadata": {},
   "outputs": [
    {
     "name": "stdout",
     "output_type": "stream",
     "text": [
      "datastructure2 can be modified but datastructure1 cannot be modified\n"
     ]
    },
    {
     "ename": "AttributeError",
     "evalue": "'tuple' object has no attribute 'append'",
     "output_type": "error",
     "traceback": [
      "\u001b[0;31m---------------------------------------------------------------------------\u001b[0m",
      "\u001b[0;31mAttributeError\u001b[0m                            Traceback (most recent call last)",
      "Cell \u001b[0;32mIn[5], line 8\u001b[0m\n\u001b[1;32m      6\u001b[0m \u001b[38;5;28mprint\u001b[39m(\u001b[38;5;124m\"\u001b[39m\u001b[38;5;124mdatastructure2 can be modified but datastructure1 cannot be modified\u001b[39m\u001b[38;5;124m\"\u001b[39m)\n\u001b[1;32m      7\u001b[0m Ds2\u001b[38;5;241m.\u001b[39mappend(\u001b[38;5;241m99\u001b[39m)\n\u001b[0;32m----> 8\u001b[0m \u001b[43mDs1\u001b[49m\u001b[38;5;241;43m.\u001b[39;49m\u001b[43mappend\u001b[49m(\u001b[38;5;241m99\u001b[39m)\n",
      "\u001b[0;31mAttributeError\u001b[0m: 'tuple' object has no attribute 'append'"
     ]
    }
   ],
   "source": [
    "#Q4. Compare and contrast tuples and lists with examples\n",
    "\n",
    "#ans. list are mutable but tuples are not mutable, list are represented using square brackets and tuples are represented using round brackets.\n",
    "Ds1=(5,6,8,4,\"red\")\n",
    "Ds2=[5,6,8,4,\"red\"]\n",
    "print(\"datastructure2 can be modified but datastructure1 cannot be modified\")\n",
    "Ds2.append(99)\n",
    "Ds1.append(99)"
   ]
  },
  {
   "cell_type": "code",
   "execution_count": 6,
   "id": "1dd945f8-2298-494d-93f7-d1c5899e1050",
   "metadata": {},
   "outputs": [
    {
     "data": {
      "text/plain": [
       "set"
      ]
     },
     "execution_count": 6,
     "metadata": {},
     "output_type": "execute_result"
    }
   ],
   "source": [
    "# Q5.Describe the key features of sets and provide examples of their use\n",
    "#ans sets are immutable,unordered data structure that allows all types of data but never duplicate data.\n",
    "set1={34,67,88}\n",
    "type(set1)"
   ]
  },
  {
   "cell_type": "code",
   "execution_count": 7,
   "id": "2d15f9cb-ddd4-4f31-bd1d-c2c447b59058",
   "metadata": {},
   "outputs": [
    {
     "ename": "AttributeError",
     "evalue": "'set' object has no attribute 'append'",
     "output_type": "error",
     "traceback": [
      "\u001b[0;31m---------------------------------------------------------------------------\u001b[0m",
      "\u001b[0;31mAttributeError\u001b[0m                            Traceback (most recent call last)",
      "Cell \u001b[0;32mIn[7], line 1\u001b[0m\n\u001b[0;32m----> 1\u001b[0m \u001b[43mset1\u001b[49m\u001b[38;5;241;43m.\u001b[39;49m\u001b[43mappend\u001b[49m(\u001b[38;5;241m56\u001b[39m)\n",
      "\u001b[0;31mAttributeError\u001b[0m: 'set' object has no attribute 'append'"
     ]
    }
   ],
   "source": [
    "set1.append(56)"
   ]
  },
  {
   "cell_type": "code",
   "execution_count": 8,
   "id": "9ee858b9-8887-4a71-a349-d4509283da6c",
   "metadata": {},
   "outputs": [
    {
     "data": {
      "text/plain": [
       "set"
      ]
     },
     "execution_count": 8,
     "metadata": {},
     "output_type": "execute_result"
    }
   ],
   "source": [
    "set2={6,8,90}\n",
    "type(set2)\n"
   ]
  },
  {
   "cell_type": "code",
   "execution_count": 10,
   "id": "ee08e016-535b-48e4-a1fa-51dcd5e7be18",
   "metadata": {},
   "outputs": [
    {
     "name": "stdout",
     "output_type": "stream",
     "text": [
      "{34, 67, 6, 88, 8, 90}\n"
     ]
    }
   ],
   "source": [
    "print(set1.union(set2))"
   ]
  },
  {
   "cell_type": "code",
   "execution_count": 16,
   "id": "c0044f1b-011c-4dc1-a4c1-739b5257c8a9",
   "metadata": {},
   "outputs": [
    {
     "name": "stdout",
     "output_type": "stream",
     "text": [
      "{'class': 'a', 'rn': '56', 'name': 'sai', 'S': 'M'}\n"
     ]
    }
   ],
   "source": [
    "# Describe how to add, modify, and delete items in a dictionary with examples\n",
    "dict1={\"class\":\"a\",\"rn\":\"56\",\"name\":\"sai\"} # original dict\n",
    "dict1[\"S\"]=\"M\"\n",
    "print(dict1) # modified dict\n"
   ]
  },
  {
   "cell_type": "code",
   "execution_count": 17,
   "id": "4204fd22-5b79-40db-82a5-33b564186770",
   "metadata": {},
   "outputs": [
    {
     "name": "stdout",
     "output_type": "stream",
     "text": [
      "{'class': 'a', 'rn': '56', 'name': 'sai', 'S': 'M'}\n",
      "{'class': 'a', 'rn': '56', 'S': 'M'}\n"
     ]
    }
   ],
   "source": [
    "print(dict1)#original dict\n",
    "dict1.pop(\"name\")# removing an attribute using pop\n",
    "print(dict1)"
   ]
  },
  {
   "cell_type": "code",
   "execution_count": 19,
   "id": "85a28ad6-3f69-48a9-a465-73735dd26367",
   "metadata": {},
   "outputs": [
    {
     "name": "stdout",
     "output_type": "stream",
     "text": [
      "56\n"
     ]
    }
   ],
   "source": [
    "print(dict1[\"rn\"])# accessing an attribute"
   ]
  },
  {
   "cell_type": "code",
   "execution_count": null,
   "id": "701a5b31-732a-416f-af4b-1676e6225d5d",
   "metadata": {},
   "outputs": [],
   "source": [
    "#Q8.Discuss the importance of dictionary keys being immutable and provide examples\n",
    "#ans. The hash table implementation of dictionaries uses a hash value calculated from the key value to find the key. If the key were a mutable object, its value could change, and thus its hash could also change. But since whoever changes the key object can’t tell that it was being used as a dictionary key, it can’t move the entry around in the dictionary. Then, when you try to look up the same object in the dictionary it won’t be found because its hash value is different. If you tried to look up the old value it wouldn’t be found either, because the value of the object found in that hash bin would be different."
   ]
  }
 ],
 "metadata": {
  "kernelspec": {
   "display_name": "Python 3 (ipykernel)",
   "language": "python",
   "name": "python3"
  },
  "language_info": {
   "codemirror_mode": {
    "name": "ipython",
    "version": 3
   },
   "file_extension": ".py",
   "mimetype": "text/x-python",
   "name": "python",
   "nbconvert_exporter": "python",
   "pygments_lexer": "ipython3",
   "version": "3.10.8"
  }
 },
 "nbformat": 4,
 "nbformat_minor": 5
}
